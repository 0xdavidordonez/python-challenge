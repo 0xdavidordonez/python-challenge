{
 "cells": [
  {
   "cell_type": "code",
   "execution_count": 1,
   "id": "3667cad6-dfb8-4dbf-88cb-712f35482daa",
   "metadata": {},
   "outputs": [],
   "source": [
    "## Pybank challenge"
   ]
  },
  {
   "cell_type": "code",
   "execution_count": 176,
   "id": "5b566760-769b-4405-96c4-605c4ae30b47",
   "metadata": {
    "tags": []
   },
   "outputs": [],
   "source": [
    "# import csv file\n",
    "\n",
    "from pathlib import Path\n",
    "import csv\n",
    "import os"
   ]
  },
  {
   "cell_type": "code",
   "execution_count": 178,
   "id": "c7ebbbd7-ed0d-46c3-9ad8-fbc4fb8b8b3d",
   "metadata": {
    "tags": []
   },
   "outputs": [],
   "source": [
    "csv_path = Path(\"C:\\\\Users\\\\0xdaom\\\\Downloads\\\\module2files\\\\Starter_Code\\\\PyBank\\\\Resources\\\\budget_data.csv\")"
   ]
  },
  {
   "cell_type": "code",
   "execution_count": 184,
   "id": "2a127b0b-b7b3-4201-858e-ee388bb08ebc",
   "metadata": {
    "tags": []
   },
   "outputs": [
    {
     "name": "stdout",
     "output_type": "stream",
     "text": [
      "Financial Analysis\n",
      "_____________________________\n",
      "Total Months: 86\n",
      "Net Total: $38382578\n",
      "Average Change: $-2315.12\n",
      "Greatest Increase in Profits: Feb-2012 ($1926159)\n",
      "Greatest Decrease in Losses: Sep-2013 ($-2196167)\n",
      "_______________________________\n",
      "Analysis has been exported to C:\\Users\\0xdaom\\Desktop\\python-challenge\\Pybank\\financial_analysis.txt\n"
     ]
    }
   ],
   "source": [
    "# Initialize variables\n",
    "total_months = 0\n",
    "net_total = 0\n",
    "previous_profit_loss = 0\n",
    "changes_list = []\n",
    "greatest_increase = {\"date\": \"\", \"amount\": float(\"-inf\")}\n",
    "greatest_decrease = {\"date\": \"\", \"amount\": float(\"inf\")}\n",
    "\n",
    "# Open the CSV file\n",
    "with open(csv_path, 'r') as csvfile:\n",
    "    # Create a CSV reader object\n",
    "    csvreader = csv.reader(csvfile)\n",
    "\n",
    "    # Skip the header row\n",
    "    header = next(csvreader)\n",
    "\n",
    "    # Iterate through each row in the CSV file\n",
    "    for row in csvreader:\n",
    "        # Extract date and profit_loss from the current row\n",
    "        date = row[0]\n",
    "        profit_loss = int(row[1])\n",
    "\n",
    "        # Update variables\n",
    "        total_months += 1\n",
    "        net_total += profit_loss\n",
    "\n",
    "        # Calculate the change in profit/loss from the previous month\n",
    "        if total_months > 1:\n",
    "            change = profit_loss - previous_profit_loss\n",
    "            changes_list.append(change)\n",
    "\n",
    "            # Update greatest increase and decrease\n",
    "            if change > greatest_increase[\"amount\"]:\n",
    "                greatest_increase[\"date\"] = date\n",
    "                greatest_increase[\"amount\"] = change\n",
    "            elif change < greatest_decrease[\"amount\"]:\n",
    "                greatest_decrease[\"date\"] = date\n",
    "                greatest_decrease[\"amount\"] = change\n",
    "\n",
    "        # Update previous_profit_loss for the next iteration\n",
    "        previous_profit_loss = profit_loss\n",
    "\n",
    "# Calculate the average change\n",
    "average_change = sum(changes_list) / len(changes_list)\n",
    "\n",
    "# Print the results\n",
    "print(\"Financial Analysis\")\n",
    "print(\"_____________________________\")\n",
    "print(f\"Total Months: {total_months}\")\n",
    "print(f\"Net Total: ${net_total}\")\n",
    "print(f\"Average Change: ${average_change:.2f}\")\n",
    "print(f\"Greatest Increase in Profits: {greatest_increase['date']} (${greatest_increase['amount']})\")\n",
    "print(f\"Greatest Decrease in Losses: {greatest_decrease['date']} (${greatest_decrease['amount']})\")\n",
    "\n",
    "\n",
    "# Set the output file path\n",
    "output_file_path = Path(\"C:\\\\Users\\\\0xdaom\\\\Desktop\\\\python-challenge\\\\Pybank\\\\financial_analysis.txt\")\n",
    "\n",
    "# Export the results to a text file\n",
    "with open(output_file_path, 'w') as output_file:\n",
    "    output_file.write(\"Financial Analysis\\n\")\n",
    "    output_file.write(\"-----------------------------\\n\")\n",
    "    output_file.write(f\"Total Months: {total_months}\\n\")\n",
    "    output_file.write(f\"Net Total: ${net_total}\\n\")\n",
    "    output_file.write(f\"Average Change: ${average_change:.2f}\\n\")\n",
    "    output_file.write(f\"Greatest Increase in Profits: {greatest_increase['date']} (${greatest_increase['amount']})\\n\")\n",
    "    output_file.write(f\"Greatest Decrease in Losses: {greatest_decrease['date']} (${greatest_decrease['amount']})\\n\")\n",
    "\n",
    "print(\"_______________________________\")\n",
    "print(f\"Analysis has been exported to {output_file_path}\")"
   ]
  },
  {
   "cell_type": "code",
   "execution_count": null,
   "id": "24cb9cb9-5291-4aa0-a5cb-ab7623f8d9f6",
   "metadata": {},
   "outputs": [],
   "source": []
  }
 ],
 "metadata": {
  "kernelspec": {
   "display_name": "Python 3 (ipykernel)",
   "language": "python",
   "name": "python3"
  },
  "language_info": {
   "codemirror_mode": {
    "name": "ipython",
    "version": 3
   },
   "file_extension": ".py",
   "mimetype": "text/x-python",
   "name": "python",
   "nbconvert_exporter": "python",
   "pygments_lexer": "ipython3",
   "version": "3.11.5"
  }
 },
 "nbformat": 4,
 "nbformat_minor": 5
}
